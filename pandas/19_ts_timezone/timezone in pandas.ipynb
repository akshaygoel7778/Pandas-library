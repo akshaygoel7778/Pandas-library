{
 "cells": [
  {
   "cell_type": "code",
   "execution_count": 14,
   "id": "7c8f552d",
   "metadata": {},
   "outputs": [],
   "source": [
    "import pandas as pd"
   ]
  },
  {
   "cell_type": "code",
   "execution_count": 15,
   "id": "d55ff9d3",
   "metadata": {},
   "outputs": [],
   "source": [
    "df = pd.read_csv(\"msft.csv\", header=1,index_col='Date Time',parse_dates=True)"
   ]
  },
  {
   "cell_type": "code",
   "execution_count": 16,
   "id": "37f52f91",
   "metadata": {},
   "outputs": [
    {
     "data": {
      "text/html": [
       "<div>\n",
       "<style scoped>\n",
       "    .dataframe tbody tr th:only-of-type {\n",
       "        vertical-align: middle;\n",
       "    }\n",
       "\n",
       "    .dataframe tbody tr th {\n",
       "        vertical-align: top;\n",
       "    }\n",
       "\n",
       "    .dataframe thead th {\n",
       "        text-align: right;\n",
       "    }\n",
       "</style>\n",
       "<table border=\"1\" class=\"dataframe\">\n",
       "  <thead>\n",
       "    <tr style=\"text-align: right;\">\n",
       "      <th></th>\n",
       "      <th>Price</th>\n",
       "    </tr>\n",
       "    <tr>\n",
       "      <th>Date Time</th>\n",
       "      <th></th>\n",
       "    </tr>\n",
       "  </thead>\n",
       "  <tbody>\n",
       "    <tr>\n",
       "      <th>2017-08-17 09:00:00</th>\n",
       "      <td>72.38</td>\n",
       "    </tr>\n",
       "    <tr>\n",
       "      <th>2017-08-17 09:15:00</th>\n",
       "      <td>71.00</td>\n",
       "    </tr>\n",
       "    <tr>\n",
       "      <th>2017-08-17 09:30:00</th>\n",
       "      <td>71.67</td>\n",
       "    </tr>\n",
       "    <tr>\n",
       "      <th>2017-08-17 10:00:00</th>\n",
       "      <td>72.80</td>\n",
       "    </tr>\n",
       "    <tr>\n",
       "      <th>2017-08-17 10:30:00</th>\n",
       "      <td>73.00</td>\n",
       "    </tr>\n",
       "    <tr>\n",
       "      <th>2017-08-17 11:00:00</th>\n",
       "      <td>72.50</td>\n",
       "    </tr>\n",
       "  </tbody>\n",
       "</table>\n",
       "</div>"
      ],
      "text/plain": [
       "                     Price\n",
       "Date Time                 \n",
       "2017-08-17 09:00:00  72.38\n",
       "2017-08-17 09:15:00  71.00\n",
       "2017-08-17 09:30:00  71.67\n",
       "2017-08-17 10:00:00  72.80\n",
       "2017-08-17 10:30:00  73.00\n",
       "2017-08-17 11:00:00  72.50"
      ]
     },
     "execution_count": 16,
     "metadata": {},
     "output_type": "execute_result"
    }
   ],
   "source": [
    "df"
   ]
  },
  {
   "cell_type": "code",
   "execution_count": 17,
   "id": "10926246",
   "metadata": {},
   "outputs": [
    {
     "data": {
      "text/plain": [
       "DatetimeIndex(['2017-08-17 09:00:00', '2017-08-17 09:15:00',\n",
       "               '2017-08-17 09:30:00', '2017-08-17 10:00:00',\n",
       "               '2017-08-17 10:30:00', '2017-08-17 11:00:00'],\n",
       "              dtype='datetime64[ns]', name='Date Time', freq=None)"
      ]
     },
     "execution_count": 17,
     "metadata": {},
     "output_type": "execute_result"
    }
   ],
   "source": [
    "df.index"
   ]
  },
  {
   "cell_type": "code",
   "execution_count": 18,
   "id": "3e6d6a10",
   "metadata": {},
   "outputs": [],
   "source": [
    "df=df.tz_localize(tz='US/Eastern')"
   ]
  },
  {
   "cell_type": "code",
   "execution_count": 19,
   "id": "36249467",
   "metadata": {},
   "outputs": [
    {
     "data": {
      "text/html": [
       "<div>\n",
       "<style scoped>\n",
       "    .dataframe tbody tr th:only-of-type {\n",
       "        vertical-align: middle;\n",
       "    }\n",
       "\n",
       "    .dataframe tbody tr th {\n",
       "        vertical-align: top;\n",
       "    }\n",
       "\n",
       "    .dataframe thead th {\n",
       "        text-align: right;\n",
       "    }\n",
       "</style>\n",
       "<table border=\"1\" class=\"dataframe\">\n",
       "  <thead>\n",
       "    <tr style=\"text-align: right;\">\n",
       "      <th></th>\n",
       "      <th>Price</th>\n",
       "    </tr>\n",
       "    <tr>\n",
       "      <th>Date Time</th>\n",
       "      <th></th>\n",
       "    </tr>\n",
       "  </thead>\n",
       "  <tbody>\n",
       "    <tr>\n",
       "      <th>2017-08-17 09:00:00-04:00</th>\n",
       "      <td>72.38</td>\n",
       "    </tr>\n",
       "    <tr>\n",
       "      <th>2017-08-17 09:15:00-04:00</th>\n",
       "      <td>71.00</td>\n",
       "    </tr>\n",
       "    <tr>\n",
       "      <th>2017-08-17 09:30:00-04:00</th>\n",
       "      <td>71.67</td>\n",
       "    </tr>\n",
       "    <tr>\n",
       "      <th>2017-08-17 10:00:00-04:00</th>\n",
       "      <td>72.80</td>\n",
       "    </tr>\n",
       "    <tr>\n",
       "      <th>2017-08-17 10:30:00-04:00</th>\n",
       "      <td>73.00</td>\n",
       "    </tr>\n",
       "    <tr>\n",
       "      <th>2017-08-17 11:00:00-04:00</th>\n",
       "      <td>72.50</td>\n",
       "    </tr>\n",
       "  </tbody>\n",
       "</table>\n",
       "</div>"
      ],
      "text/plain": [
       "                           Price\n",
       "Date Time                       \n",
       "2017-08-17 09:00:00-04:00  72.38\n",
       "2017-08-17 09:15:00-04:00  71.00\n",
       "2017-08-17 09:30:00-04:00  71.67\n",
       "2017-08-17 10:00:00-04:00  72.80\n",
       "2017-08-17 10:30:00-04:00  73.00\n",
       "2017-08-17 11:00:00-04:00  72.50"
      ]
     },
     "execution_count": 19,
     "metadata": {},
     "output_type": "execute_result"
    }
   ],
   "source": [
    "df"
   ]
  },
  {
   "cell_type": "code",
   "execution_count": 20,
   "id": "07afa0f3",
   "metadata": {},
   "outputs": [],
   "source": [
    "df=df.tz_convert(tz='Europe/Berlin')"
   ]
  },
  {
   "cell_type": "code",
   "execution_count": 21,
   "id": "5cf560ac",
   "metadata": {},
   "outputs": [
    {
     "data": {
      "text/html": [
       "<div>\n",
       "<style scoped>\n",
       "    .dataframe tbody tr th:only-of-type {\n",
       "        vertical-align: middle;\n",
       "    }\n",
       "\n",
       "    .dataframe tbody tr th {\n",
       "        vertical-align: top;\n",
       "    }\n",
       "\n",
       "    .dataframe thead th {\n",
       "        text-align: right;\n",
       "    }\n",
       "</style>\n",
       "<table border=\"1\" class=\"dataframe\">\n",
       "  <thead>\n",
       "    <tr style=\"text-align: right;\">\n",
       "      <th></th>\n",
       "      <th>Price</th>\n",
       "    </tr>\n",
       "    <tr>\n",
       "      <th>Date Time</th>\n",
       "      <th></th>\n",
       "    </tr>\n",
       "  </thead>\n",
       "  <tbody>\n",
       "    <tr>\n",
       "      <th>2017-08-17 15:00:00+02:00</th>\n",
       "      <td>72.38</td>\n",
       "    </tr>\n",
       "    <tr>\n",
       "      <th>2017-08-17 15:15:00+02:00</th>\n",
       "      <td>71.00</td>\n",
       "    </tr>\n",
       "    <tr>\n",
       "      <th>2017-08-17 15:30:00+02:00</th>\n",
       "      <td>71.67</td>\n",
       "    </tr>\n",
       "    <tr>\n",
       "      <th>2017-08-17 16:00:00+02:00</th>\n",
       "      <td>72.80</td>\n",
       "    </tr>\n",
       "    <tr>\n",
       "      <th>2017-08-17 16:30:00+02:00</th>\n",
       "      <td>73.00</td>\n",
       "    </tr>\n",
       "    <tr>\n",
       "      <th>2017-08-17 17:00:00+02:00</th>\n",
       "      <td>72.50</td>\n",
       "    </tr>\n",
       "  </tbody>\n",
       "</table>\n",
       "</div>"
      ],
      "text/plain": [
       "                           Price\n",
       "Date Time                       \n",
       "2017-08-17 15:00:00+02:00  72.38\n",
       "2017-08-17 15:15:00+02:00  71.00\n",
       "2017-08-17 15:30:00+02:00  71.67\n",
       "2017-08-17 16:00:00+02:00  72.80\n",
       "2017-08-17 16:30:00+02:00  73.00\n",
       "2017-08-17 17:00:00+02:00  72.50"
      ]
     },
     "execution_count": 21,
     "metadata": {},
     "output_type": "execute_result"
    }
   ],
   "source": [
    "df"
   ]
  },
  {
   "cell_type": "code",
   "execution_count": 22,
   "id": "7df43f15",
   "metadata": {},
   "outputs": [],
   "source": [
    "df=df.tz_convert(tz='Asia/Calcutta')"
   ]
  },
  {
   "cell_type": "code",
   "execution_count": 23,
   "id": "fb17941e",
   "metadata": {},
   "outputs": [
    {
     "data": {
      "text/html": [
       "<div>\n",
       "<style scoped>\n",
       "    .dataframe tbody tr th:only-of-type {\n",
       "        vertical-align: middle;\n",
       "    }\n",
       "\n",
       "    .dataframe tbody tr th {\n",
       "        vertical-align: top;\n",
       "    }\n",
       "\n",
       "    .dataframe thead th {\n",
       "        text-align: right;\n",
       "    }\n",
       "</style>\n",
       "<table border=\"1\" class=\"dataframe\">\n",
       "  <thead>\n",
       "    <tr style=\"text-align: right;\">\n",
       "      <th></th>\n",
       "      <th>Price</th>\n",
       "    </tr>\n",
       "    <tr>\n",
       "      <th>Date Time</th>\n",
       "      <th></th>\n",
       "    </tr>\n",
       "  </thead>\n",
       "  <tbody>\n",
       "    <tr>\n",
       "      <th>2017-08-17 18:30:00+05:30</th>\n",
       "      <td>72.38</td>\n",
       "    </tr>\n",
       "    <tr>\n",
       "      <th>2017-08-17 18:45:00+05:30</th>\n",
       "      <td>71.00</td>\n",
       "    </tr>\n",
       "    <tr>\n",
       "      <th>2017-08-17 19:00:00+05:30</th>\n",
       "      <td>71.67</td>\n",
       "    </tr>\n",
       "    <tr>\n",
       "      <th>2017-08-17 19:30:00+05:30</th>\n",
       "      <td>72.80</td>\n",
       "    </tr>\n",
       "    <tr>\n",
       "      <th>2017-08-17 20:00:00+05:30</th>\n",
       "      <td>73.00</td>\n",
       "    </tr>\n",
       "    <tr>\n",
       "      <th>2017-08-17 20:30:00+05:30</th>\n",
       "      <td>72.50</td>\n",
       "    </tr>\n",
       "  </tbody>\n",
       "</table>\n",
       "</div>"
      ],
      "text/plain": [
       "                           Price\n",
       "Date Time                       \n",
       "2017-08-17 18:30:00+05:30  72.38\n",
       "2017-08-17 18:45:00+05:30  71.00\n",
       "2017-08-17 19:00:00+05:30  71.67\n",
       "2017-08-17 19:30:00+05:30  72.80\n",
       "2017-08-17 20:00:00+05:30  73.00\n",
       "2017-08-17 20:30:00+05:30  72.50"
      ]
     },
     "execution_count": 23,
     "metadata": {},
     "output_type": "execute_result"
    }
   ],
   "source": [
    "df"
   ]
  },
  {
   "cell_type": "code",
   "execution_count": 24,
   "id": "0d51898f",
   "metadata": {},
   "outputs": [],
   "source": [
    "df.index=df.index.tz_convert(tz='Asia/Calcutta')"
   ]
  },
  {
   "cell_type": "code",
   "execution_count": 25,
   "id": "ef6c93c5",
   "metadata": {},
   "outputs": [
    {
     "data": {
      "text/html": [
       "<div>\n",
       "<style scoped>\n",
       "    .dataframe tbody tr th:only-of-type {\n",
       "        vertical-align: middle;\n",
       "    }\n",
       "\n",
       "    .dataframe tbody tr th {\n",
       "        vertical-align: top;\n",
       "    }\n",
       "\n",
       "    .dataframe thead th {\n",
       "        text-align: right;\n",
       "    }\n",
       "</style>\n",
       "<table border=\"1\" class=\"dataframe\">\n",
       "  <thead>\n",
       "    <tr style=\"text-align: right;\">\n",
       "      <th></th>\n",
       "      <th>Price</th>\n",
       "    </tr>\n",
       "    <tr>\n",
       "      <th>Date Time</th>\n",
       "      <th></th>\n",
       "    </tr>\n",
       "  </thead>\n",
       "  <tbody>\n",
       "    <tr>\n",
       "      <th>2017-08-17 18:30:00+05:30</th>\n",
       "      <td>72.38</td>\n",
       "    </tr>\n",
       "    <tr>\n",
       "      <th>2017-08-17 18:45:00+05:30</th>\n",
       "      <td>71.00</td>\n",
       "    </tr>\n",
       "    <tr>\n",
       "      <th>2017-08-17 19:00:00+05:30</th>\n",
       "      <td>71.67</td>\n",
       "    </tr>\n",
       "    <tr>\n",
       "      <th>2017-08-17 19:30:00+05:30</th>\n",
       "      <td>72.80</td>\n",
       "    </tr>\n",
       "    <tr>\n",
       "      <th>2017-08-17 20:00:00+05:30</th>\n",
       "      <td>73.00</td>\n",
       "    </tr>\n",
       "    <tr>\n",
       "      <th>2017-08-17 20:30:00+05:30</th>\n",
       "      <td>72.50</td>\n",
       "    </tr>\n",
       "  </tbody>\n",
       "</table>\n",
       "</div>"
      ],
      "text/plain": [
       "                           Price\n",
       "Date Time                       \n",
       "2017-08-17 18:30:00+05:30  72.38\n",
       "2017-08-17 18:45:00+05:30  71.00\n",
       "2017-08-17 19:00:00+05:30  71.67\n",
       "2017-08-17 19:30:00+05:30  72.80\n",
       "2017-08-17 20:00:00+05:30  73.00\n",
       "2017-08-17 20:30:00+05:30  72.50"
      ]
     },
     "execution_count": 25,
     "metadata": {},
     "output_type": "execute_result"
    }
   ],
   "source": [
    "df"
   ]
  },
  {
   "cell_type": "code",
   "execution_count": 26,
   "id": "e86c4fe0",
   "metadata": {},
   "outputs": [],
   "source": [
    "rng=pd.date_range(start='2017/01/05',periods=10,freq='H',tz='Europe/Berlin')"
   ]
  },
  {
   "cell_type": "code",
   "execution_count": 27,
   "id": "2d719972",
   "metadata": {},
   "outputs": [
    {
     "data": {
      "text/plain": [
       "DatetimeIndex(['2017-01-05 00:00:00+01:00', '2017-01-05 01:00:00+01:00',\n",
       "               '2017-01-05 02:00:00+01:00', '2017-01-05 03:00:00+01:00',\n",
       "               '2017-01-05 04:00:00+01:00', '2017-01-05 05:00:00+01:00',\n",
       "               '2017-01-05 06:00:00+01:00', '2017-01-05 07:00:00+01:00',\n",
       "               '2017-01-05 08:00:00+01:00', '2017-01-05 09:00:00+01:00'],\n",
       "              dtype='datetime64[ns, Europe/Berlin]', freq='H')"
      ]
     },
     "execution_count": 27,
     "metadata": {},
     "output_type": "execute_result"
    }
   ],
   "source": [
    "rng"
   ]
  },
  {
   "cell_type": "code",
   "execution_count": 28,
   "id": "1362b3b0",
   "metadata": {},
   "outputs": [],
   "source": [
    "s=pd.Series(range(10),index=rng)"
   ]
  },
  {
   "cell_type": "code",
   "execution_count": 29,
   "id": "c4ccbf2a",
   "metadata": {},
   "outputs": [
    {
     "data": {
      "text/plain": [
       "2017-01-05 00:00:00+01:00    0\n",
       "2017-01-05 01:00:00+01:00    1\n",
       "2017-01-05 02:00:00+01:00    2\n",
       "2017-01-05 03:00:00+01:00    3\n",
       "2017-01-05 04:00:00+01:00    4\n",
       "2017-01-05 05:00:00+01:00    5\n",
       "2017-01-05 06:00:00+01:00    6\n",
       "2017-01-05 07:00:00+01:00    7\n",
       "2017-01-05 08:00:00+01:00    8\n",
       "2017-01-05 09:00:00+01:00    9\n",
       "Freq: H, dtype: int64"
      ]
     },
     "execution_count": 29,
     "metadata": {},
     "output_type": "execute_result"
    }
   ],
   "source": [
    "s"
   ]
  },
  {
   "cell_type": "code",
   "execution_count": 33,
   "id": "b17d9db2",
   "metadata": {},
   "outputs": [],
   "source": [
    "b=s.tz_convert(tz='Europe/Berlin')"
   ]
  },
  {
   "cell_type": "code",
   "execution_count": 34,
   "id": "b9d182be",
   "metadata": {},
   "outputs": [],
   "source": [
    "m=s.tz_convert(tz='Asia/Calcutta')"
   ]
  },
  {
   "cell_type": "code",
   "execution_count": 35,
   "id": "28f927ef",
   "metadata": {},
   "outputs": [
    {
     "data": {
      "text/plain": [
       "2017-01-05 00:00:00+01:00    0\n",
       "2017-01-05 01:00:00+01:00    1\n",
       "2017-01-05 02:00:00+01:00    2\n",
       "2017-01-05 03:00:00+01:00    3\n",
       "2017-01-05 04:00:00+01:00    4\n",
       "2017-01-05 05:00:00+01:00    5\n",
       "2017-01-05 06:00:00+01:00    6\n",
       "2017-01-05 07:00:00+01:00    7\n",
       "2017-01-05 08:00:00+01:00    8\n",
       "2017-01-05 09:00:00+01:00    9\n",
       "Freq: H, dtype: int64"
      ]
     },
     "execution_count": 35,
     "metadata": {},
     "output_type": "execute_result"
    }
   ],
   "source": [
    "b"
   ]
  },
  {
   "cell_type": "code",
   "execution_count": 36,
   "id": "89591209",
   "metadata": {},
   "outputs": [
    {
     "data": {
      "text/plain": [
       "2017-01-05 04:30:00+05:30    0\n",
       "2017-01-05 05:30:00+05:30    1\n",
       "2017-01-05 06:30:00+05:30    2\n",
       "2017-01-05 07:30:00+05:30    3\n",
       "2017-01-05 08:30:00+05:30    4\n",
       "2017-01-05 09:30:00+05:30    5\n",
       "2017-01-05 10:30:00+05:30    6\n",
       "2017-01-05 11:30:00+05:30    7\n",
       "2017-01-05 12:30:00+05:30    8\n",
       "2017-01-05 13:30:00+05:30    9\n",
       "Freq: H, dtype: int64"
      ]
     },
     "execution_count": 36,
     "metadata": {},
     "output_type": "execute_result"
    }
   ],
   "source": [
    "m"
   ]
  },
  {
   "cell_type": "code",
   "execution_count": 37,
   "id": "995ee7c1",
   "metadata": {},
   "outputs": [
    {
     "data": {
      "text/plain": [
       "2017-01-04 23:00:00+00:00     0\n",
       "2017-01-05 00:00:00+00:00     2\n",
       "2017-01-05 01:00:00+00:00     4\n",
       "2017-01-05 02:00:00+00:00     6\n",
       "2017-01-05 03:00:00+00:00     8\n",
       "2017-01-05 04:00:00+00:00    10\n",
       "2017-01-05 05:00:00+00:00    12\n",
       "2017-01-05 06:00:00+00:00    14\n",
       "2017-01-05 07:00:00+00:00    16\n",
       "2017-01-05 08:00:00+00:00    18\n",
       "Freq: H, dtype: int64"
      ]
     },
     "execution_count": 37,
     "metadata": {},
     "output_type": "execute_result"
    }
   ],
   "source": [
    "b+m"
   ]
  },
  {
   "cell_type": "code",
   "execution_count": null,
   "id": "206c98ef",
   "metadata": {},
   "outputs": [],
   "source": []
  }
 ],
 "metadata": {
  "kernelspec": {
   "display_name": "Python 3 (ipykernel)",
   "language": "python",
   "name": "python3"
  },
  "language_info": {
   "codemirror_mode": {
    "name": "ipython",
    "version": 3
   },
   "file_extension": ".py",
   "mimetype": "text/x-python",
   "name": "python",
   "nbconvert_exporter": "python",
   "pygments_lexer": "ipython3",
   "version": "3.9.13"
  }
 },
 "nbformat": 4,
 "nbformat_minor": 5
}
